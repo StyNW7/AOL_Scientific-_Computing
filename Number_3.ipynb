{
 "cells": [
  {
   "cell_type": "markdown",
   "metadata": {},
   "source": [
    "# Assurance of Learning (Number 3)"
   ]
  },
  {
   "cell_type": "markdown",
   "metadata": {},
   "source": [
    "## Import Library"
   ]
  },
  {
   "cell_type": "code",
   "execution_count": 14,
   "metadata": {},
   "outputs": [],
   "source": [
    "# Import Library\n",
    "\n",
    "import math\n",
    "import numpy as np\n",
    "from scipy.optimize import newton, bisect"
   ]
  },
  {
   "cell_type": "markdown",
   "metadata": {},
   "source": [
    "### Data"
   ]
  },
  {
   "cell_type": "code",
   "execution_count": 15,
   "metadata": {},
   "outputs": [],
   "source": [
    "# Bag production data\n",
    "\n",
    "data = [\n",
    "    1863, 1614, 2570, 1685, 2101, 1811, 2457, 2171, 2134, 2502, 2358, 2399, 2048, 2523, 2086, 2391,\n",
    "    2150, 2340, 3129, 2277, 2964, 2997, 2747, 2862, 3405, 2677, 2749, 2755, 2963, 3161, 3623, 2768,\n",
    "    3141, 3439, 3601, 3531, 3477, 3376, 4027, 3175, 3274, 3334, 3964, 3649, 3502, 3688, 3657, 4422,\n",
    "    4197, 4441, 4736, 4521, 4485, 4644, 5036, 4876, 4789, 4544, 4975, 5211, 4880, 4933, 5079, 5339,\n",
    "    5232, 5520, 5714, 5260, 6110, 5334, 5988, 6235, 6365, 6266, 6345, 6118, 6497, 6278, 6638, 6590,\n",
    "    6271, 7246, 6584, 6594, 7092, 7326, 7409, 7976, 7959, 8012, 8195, 8008, 8313, 7791, 8368, 8933,\n",
    "    8756, 8613, 8705, 9098, 8769, 9544, 9050, 9186, 10012, 9685, 9966, 10048, 10244, 10740, 10318,\n",
    "    10393, 10986, 10635, 10731, 11749, 11849, 12123, 12274, 11666, 11960, 12629, 12915, 13051,\n",
    "    13387, 13309, 13732, 13162, 13644, 13808, 14101, 13992, 15191, 15018, 14917, 15046, 15556,\n",
    "    15893, 16388, 16782, 16716, 17033, 16896, 17689\n",
    "]\n",
    "\n",
    "# From Month 1 to Month 144\n",
    "months = np.arange(1, 145)"
   ]
  },
  {
   "cell_type": "markdown",
   "metadata": {},
   "source": [
    "### Newton Raphson Function"
   ]
  },
  {
   "cell_type": "code",
   "execution_count": 16,
   "metadata": {},
   "outputs": [],
   "source": [
    "# f --> f(x), g --> g(x)\n",
    "# x0 --> Initial guess\n",
    "# e -> error\n",
    "# max_iter --> Maximum iteration\n",
    "\n",
    "def netwon_raphson (f, g, x0, e = 0.01, max_iter = 15):\n",
    "    for i in range (1, max_iter):\n",
    "        x1 = x0 - (f(x0) / g (x0))\n",
    "    \n",
    "        if np.abs (f(x1) < e):\n",
    "            return x1\n",
    "        \n",
    "        x0 = x1\n",
    "\n",
    "    return None"
   ]
  },
  {
   "cell_type": "markdown",
   "metadata": {},
   "source": [
    "### Bisection Method"
   ]
  },
  {
   "cell_type": "code",
   "execution_count": 17,
   "metadata": {},
   "outputs": [],
   "source": [
    "def bisection (f, a, b, e=0.0001):\n",
    "\n",
    "    if np.sign(f(a)) == np.sign (f(b)):\n",
    "        print (\"Coordinate Invalid\")\n",
    "        return\n",
    "\n",
    "    # find the middle value\n",
    "\n",
    "    c = (a+b)/2\n",
    "\n",
    "    # Recursive to find the root\n",
    "    \n",
    "    if np.abs(f(c)) < e:\n",
    "        return c\n",
    "    \n",
    "    elif np.sign (f(a)) == np.sign(f(c)):\n",
    "        return bisection (f, c, b, e)\n",
    "    \n",
    "    elif np.sign (f(b)) == np.sign (f(c)):\n",
    "        return bisection (f, a, c, e)"
   ]
  },
  {
   "cell_type": "markdown",
   "metadata": {},
   "source": [
    "### Root of Equation Code (Solution for Number 3)"
   ]
  },
  {
   "cell_type": "code",
   "execution_count": 18,
   "metadata": {},
   "outputs": [
    {
     "name": "stdout",
     "output_type": "stream",
     "text": [
      "\n",
      "Newton-Raphson Method (Direct Method from Python Library): Month-165.00 (Therefore, the EGIER need to build a new warehouse at Month-152.00)\n",
      "\n",
      "Newton-Raphson Method (Custom Function): Month-165.00 (Therefore, the EGIER need to build a new warehouse at Month-152.00)\n",
      "\n",
      "Bisection Method (Direct Method from Python Library): Month-165.00 (Therefore, the EGIER need to build a new warehouse at Month-152.00)\n",
      "\n",
      "Bisection Method (Custom Function): Month-165.00 (Therefore, the EGIER need to build a new warehouse at Month-152.00)\n",
      "\n",
      "All of the method given the same answer value which is the Root of Equation is 165 so EGIER need to build a new warehouse at Month-152\n",
      "\n",
      "Y value when X = 165 is 25016.99\n",
      "\n",
      "Y value when X = 164 is 24579.60\n"
     ]
    }
   ],
   "source": [
    "# Polynomial Model from question number 1\n",
    "\n",
    "poly_coeffs = np.polyfit(months, data, 5)\n",
    "poly_model = np.poly1d(poly_coeffs)\n",
    "\n",
    "# Function to find the root of equation (P(x) - 25000)\n",
    "\n",
    "def f(x):\n",
    "    return poly_model(x) - 25000\n",
    "\n",
    "# First Derivative from Polynomial Model\n",
    "\n",
    "poly_derivative = np.polyder(poly_model)\n",
    "\n",
    "# First Derivative of Polynomial Model Function\n",
    "\n",
    "def f_prime(x):\n",
    "    return poly_derivative(x)\n",
    "\n",
    "# Newton-Raphson Method\n",
    "\n",
    "initial_guess = 130  # Initial guess (month that maybe produce 25000 bags)\n",
    "\n",
    "# Using direct library\n",
    "\n",
    "newton_root = math.ceil(newton(f, initial_guess, f_prime)) # 164.96\n",
    "print(f'\\nNewton-Raphson Method (Direct Method from Python Library): Month-{newton_root:.2f} (Therefore, the EGIER need to build a new warehouse at Month-{newton_root - 13:.2f})')\n",
    "\n",
    "# Using custom Newton Raphson Function (based on the written above)\n",
    "\n",
    "newton2_root = math.ceil(netwon_raphson(f, f_prime, initial_guess)) # 164.96\n",
    "print(f'\\nNewton-Raphson Method (Custom Function): Month-{newton2_root:.2f} (Therefore, the EGIER need to build a new warehouse at Month-{newton2_root - 13:.2f})')\n",
    "\n",
    "# Bisection Method\n",
    "\n",
    "a, b = -300, 300 # Interval\n",
    "\n",
    "# Using direct library\n",
    "\n",
    "bisection_root = math.ceil(bisect(f, a, b)) # 164.96\n",
    "print(f'\\nBisection Method (Direct Method from Python Library): Month-{bisection_root:.2f} (Therefore, the EGIER need to build a new warehouse at Month-{bisection_root - 13:.2f})')\n",
    "\n",
    "# Using custom Bisection Function (based on the written above)\n",
    "\n",
    "bisection2_root = math.ceil(bisection(f, a, b)) # 164.96\n",
    "print(f'\\nBisection Method (Custom Function): Month-{bisection2_root:.2f} (Therefore, the EGIER need to build a new warehouse at Month-{bisection2_root - 13:.2f})')\n",
    "\n",
    "# Conclusion\n",
    "\n",
    "print (f'\\nAll of the method given the same answer value which is the Root of Equation is 165 so EGIER need to build a new warehouse at Month-152')\n",
    "\n",
    "# Proofing that at Month-165 the bags production will be 25.000+ using Polynomial Model from Question Number 1\n",
    "\n",
    "x_value = 165\n",
    "y_value = poly_model(x_value)\n",
    "print(f'\\nY value when X = {x_value} is {y_value:.2f}')\n",
    "\n",
    "x_value = 164\n",
    "y_value = poly_model(x_value)\n",
    "print(f'\\nY value when X = {x_value} is {y_value:.2f}')"
   ]
  },
  {
   "cell_type": "markdown",
   "metadata": {},
   "source": [
    "### Conclusion\n",
    "\n",
    "Based on the Polynomial Model that was created previously, it has been proven that in the 165th month, the number of bag production will be 25016.99. So that this number will exceed the existing storage capacity, it is necessary to build a new warehouse, 13 months earlier, namely the 152nd month. My assumption is to use Rounded up (ceiling), because in the 164th month, the amount of production has not exceeded the limit, so there is no need to start construction in the 151st month, but construction of the new warehouse can start in the 152nd month.\n",
    "\n",
    "##### ==> EGIER need to start build a new warehouse in the 152nd month"
   ]
  }
 ],
 "metadata": {
  "kernelspec": {
   "display_name": "Python 3",
   "language": "python",
   "name": "python3"
  },
  "language_info": {
   "codemirror_mode": {
    "name": "ipython",
    "version": 3
   },
   "file_extension": ".py",
   "mimetype": "text/x-python",
   "name": "python",
   "nbconvert_exporter": "python",
   "pygments_lexer": "ipython3",
   "version": "3.10.6"
  }
 },
 "nbformat": 4,
 "nbformat_minor": 2
}
